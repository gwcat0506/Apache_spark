{
 "cells": [
  {
   "cell_type": "code",
   "execution_count": 6,
   "id": "f45d321b-eef0-43b5-ace2-0d3dee6fa7ad",
   "metadata": {
    "tags": []
   },
   "outputs": [],
   "source": [
    "from pyspark.context import SparkContext \n",
    "from pyspark.conf import SparkConf\n",
    "\n",
    "sc = SparkContext.getOrCreate(SparkConf())"
   ]
  },
  {
   "cell_type": "code",
   "execution_count": 9,
   "id": "3b4b637d-c670-4e14-bdbb-8207fad4ba33",
   "metadata": {
    "tags": []
   },
   "outputs": [],
   "source": [
    "text_file = sc.textFile(\"./README.md\")"
   ]
  },
  {
   "cell_type": "code",
   "execution_count": 10,
   "id": "2e5ee753-1e10-4ea5-bb7c-8a4fee53b688",
   "metadata": {
    "tags": []
   },
   "outputs": [],
   "source": [
    "counts = text_file.flatMap(lambda line: line.split(\" \")).map(lambda word: (word, 1)).reduceByKey(lambda a, b: a + b)\n"
   ]
  },
  {
   "cell_type": "code",
   "execution_count": 11,
   "id": "2f2b6660-fbf4-4d79-a944-211cd7623d54",
   "metadata": {
    "tags": []
   },
   "outputs": [],
   "source": [
    "# output_python 폴더 안에 결과값이 출력된다.\n",
    "counts.saveAsTextFile(\"./output_python\")"
   ]
  },
  {
   "cell_type": "code",
   "execution_count": null,
   "id": "73c6ff68-b0cd-4ea9-9d20-a9b645044cff",
   "metadata": {},
   "outputs": [],
   "source": []
  }
 ],
 "metadata": {
  "kernelspec": {
   "display_name": "Python 3 (ipykernel)",
   "language": "python",
   "name": "python3"
  },
  "language_info": {
   "codemirror_mode": {
    "name": "ipython",
    "version": 3
   },
   "file_extension": ".py",
   "mimetype": "text/x-python",
   "name": "python",
   "nbconvert_exporter": "python",
   "pygments_lexer": "ipython3",
   "version": "3.10.9"
  }
 },
 "nbformat": 4,
 "nbformat_minor": 5
}
