{
 "cells": [
  {
   "cell_type": "code",
   "execution_count": 8,
   "id": "94d7e145-4e48-42a4-b8ab-ac3c723dd4ee",
   "metadata": {
    "tags": []
   },
   "outputs": [
    {
     "data": {
      "text/plain": [
       "textFile: org.apache.spark.rdd.RDD[String] = ./README.md MapPartitionsRDD[14] at textFile at <console>:24\n"
      ]
     },
     "execution_count": 8,
     "metadata": {},
     "output_type": "execute_result"
    }
   ],
   "source": [
    "val textFile = sc.textFile(\"./README.md\")\n",
    "// 읽은게 아님, 변환함수라서 나중에 엑션함수를 실행시켜야 에러가 남"
   ]
  },
  {
   "cell_type": "code",
   "execution_count": 9,
   "id": "31cf5aa3-f0a3-45b2-bddd-1b504b6fb4c8",
   "metadata": {
    "tags": []
   },
   "outputs": [
    {
     "data": {
      "text/plain": [
       "counts: org.apache.spark.rdd.RDD[(String, Int)] = ShuffledRDD[17] at reduceByKey at <console>:24\n"
      ]
     },
     "execution_count": 9,
     "metadata": {},
     "output_type": "execute_result"
    }
   ],
   "source": [
    "val counts = textFile.flatMap(line => line.split(\" \")).map(word => (word,1)).reduceByKey(_+_)"
   ]
  },
  {
   "cell_type": "code",
   "execution_count": 10,
   "id": "0af7a1da-02d1-4b43-90db-62594cfe0a83",
   "metadata": {
    "tags": []
   },
   "outputs": [],
   "source": [
    "// mapreduce_result 폴더를 만들어라 \n",
    "counts.saveAsTextFile(\"./mapreduce_result2\")\n",
    "// mapreduce_result2 폴더 안에 파일 2개가 생긴다."
   ]
  },
  {
   "cell_type": "code",
   "execution_count": 11,
   "id": "2be6a880-b017-4c0c-b06b-00f5903d74e0",
   "metadata": {
    "tags": []
   },
   "outputs": [
    {
     "data": {
      "text/plain": [
       "res4: (String, Int) = (are,1)\n"
      ]
     },
     "execution_count": 11,
     "metadata": {},
     "output_type": "execute_result"
    }
   ],
   "source": [
    "counts.first()\n"
   ]
  },
  {
   "cell_type": "code",
   "execution_count": null,
   "id": "1f762e38-2e39-48bf-b2d7-a12c7cee9d51",
   "metadata": {},
   "outputs": [],
   "source": []
  },
  {
   "cell_type": "code",
   "execution_count": null,
   "id": "83ccb5d6-2014-4426-b202-e96352708dd4",
   "metadata": {},
   "outputs": [],
   "source": []
  }
 ],
 "metadata": {
  "kernelspec": {
   "display_name": "spylon-kernel",
   "language": "scala",
   "name": "spylon-kernel"
  },
  "language_info": {
   "codemirror_mode": "text/x-scala",
   "file_extension": ".scala",
   "help_links": [
    {
     "text": "MetaKernel Magics",
     "url": "https://metakernel.readthedocs.io/en/latest/source/README.html"
    }
   ],
   "mimetype": "text/x-scala",
   "name": "scala",
   "pygments_lexer": "scala",
   "version": "0.4.1"
  }
 },
 "nbformat": 4,
 "nbformat_minor": 5
}
