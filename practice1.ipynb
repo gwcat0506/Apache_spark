{
 "cells": [
  {
   "cell_type": "code",
   "execution_count": 31,
   "id": "65c38fb4-e233-4a63-930f-7b0934495a90",
   "metadata": {
    "tags": []
   },
   "outputs": [
    {
     "data": {
      "text/plain": [
       "lines: org.apache.spark.rdd.RDD[String] = ./sample.txt MapPartitionsRDD[18] at textFile at <console>:25\n"
      ]
     },
     "execution_count": 31,
     "metadata": {},
     "output_type": "execute_result"
    }
   ],
   "source": [
    "// RDD 객체 생성 \n",
    "val lines = sc.textFile(\"./sample.txt\")"
   ]
  },
  {
   "cell_type": "code",
   "execution_count": 32,
   "id": "bbe384a1-c3f9-4a5c-a8ff-6dbfdc1325a8",
   "metadata": {
    "tags": []
   },
   "outputs": [
    {
     "data": {
      "text/plain": [
       "res16: Long = 2\n"
      ]
     },
     "execution_count": 32,
     "metadata": {},
     "output_type": "execute_result"
    }
   ],
   "source": [
    "lines.count()"
   ]
  },
  {
   "cell_type": "code",
   "execution_count": 33,
   "id": "aa6b8ae8-db29-48f4-afaf-7e0e2c5a9fc8",
   "metadata": {
    "tags": []
   },
   "outputs": [
    {
     "data": {
      "text/plain": [
       "res17: String = I am a boy.\n"
      ]
     },
     "execution_count": 33,
     "metadata": {},
     "output_type": "execute_result"
    }
   ],
   "source": [
    "// 첫번째를 return 하는 action함수\n",
    "lines.first()"
   ]
  },
  {
   "cell_type": "code",
   "execution_count": 34,
   "id": "df191197-a380-4efb-8bff-fcfdedb98e9a",
   "metadata": {
    "tags": []
   },
   "outputs": [
    {
     "data": {
      "text/plain": [
       "lineLengths: org.apache.spark.rdd.RDD[Int] = MapPartitionsRDD[19] at map at <console>:24\n"
      ]
     },
     "execution_count": 34,
     "metadata": {},
     "output_type": "execute_result"
    }
   ],
   "source": [
    "// 변환함수\n",
    "val lineLengths = lines.map(s => s.length)\n",
    "// [11,14]로 바뀜"
   ]
  },
  {
   "cell_type": "code",
   "execution_count": 35,
   "id": "40999608-0017-4606-8b5b-86d4572c9df9",
   "metadata": {
    "tags": []
   },
   "outputs": [
    {
     "data": {
      "text/plain": [
       "totalLength: Int = 26\n"
      ]
     },
     "execution_count": 35,
     "metadata": {},
     "output_type": "execute_result"
    }
   ],
   "source": [
    "// reduce 호출시 작업 처리 \n",
    "// 전체 파일의 문자열 수 \n",
    "val totalLength = lineLengths.reduce((a, b) => a + b)"
   ]
  },
  {
   "cell_type": "code",
   "execution_count": null,
   "id": "068eee8c-031b-4b5b-997e-0af008a7f34c",
   "metadata": {},
   "outputs": [],
   "source": []
  },
  {
   "cell_type": "code",
   "execution_count": null,
   "id": "ad10a08e-228d-4625-8045-4f781bc24152",
   "metadata": {},
   "outputs": [],
   "source": []
  }
 ],
 "metadata": {
  "kernelspec": {
   "display_name": "spylon-kernel",
   "language": "scala",
   "name": "spylon-kernel"
  },
  "language_info": {
   "codemirror_mode": "text/x-scala",
   "file_extension": ".scala",
   "help_links": [
    {
     "text": "MetaKernel Magics",
     "url": "https://metakernel.readthedocs.io/en/latest/source/README.html"
    }
   ],
   "mimetype": "text/x-scala",
   "name": "scala",
   "pygments_lexer": "scala",
   "version": "0.4.1"
  }
 },
 "nbformat": 4,
 "nbformat_minor": 5
}
